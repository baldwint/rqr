{
 "cells": [
  {
   "cell_type": "code",
   "execution_count": 1,
   "metadata": {
    "collapsed": true
   },
   "outputs": [],
   "source": [
    "import pandas as pd"
   ]
  },
  {
   "cell_type": "code",
   "execution_count": 34,
   "metadata": {
    "collapsed": false
   },
   "outputs": [],
   "source": [
    "fn = 'PH 211 W17 (Baldwin 32032)-Reading Questions (Week 1 Friday)-responses.csv'"
   ]
  },
  {
   "cell_type": "code",
   "execution_count": 36,
   "metadata": {
    "collapsed": true
   },
   "outputs": [],
   "source": [
    "df.drop?"
   ]
  },
  {
   "cell_type": "code",
   "execution_count": 37,
   "metadata": {
    "collapsed": false
   },
   "outputs": [],
   "source": [
    "df = (pd.read_csv(fn)\n",
    "        .drop(['Institution', 'Department'], axis=1)\n",
    "        .rename(columns=lambda string: string.replace(' ', '_')))"
   ]
  },
  {
   "cell_type": "code",
   "execution_count": 38,
   "metadata": {
    "collapsed": false
   },
   "outputs": [
    {
     "data": {
      "text/plain": [
       "Index(['Last_name', 'First_name', 'ID_number', 'Email_address', 'State',\n",
       "       'Started_on', 'Completed', 'Time_taken', 'Response_1', 'Response_2'],\n",
       "      dtype='object')"
      ]
     },
     "execution_count": 38,
     "metadata": {},
     "output_type": "execute_result"
    }
   ],
   "source": [
    "df.columns"
   ]
  },
  {
   "cell_type": "code",
   "execution_count": 83,
   "metadata": {
    "collapsed": false
   },
   "outputs": [],
   "source": [
    "def clean_resps(df, resp_col = 'Response_1'):\n",
    "    cols = [col for col in df.columns if not col.startswith('Response')]\n",
    "    def make_response(row):\n",
    "        resp = dict(row[cols])\n",
    "        resp['Response'] = row[resp_col]\n",
    "        return resp\n",
    "    resps = [make_response(row) for i, row in df.iterrows()]\n",
    "    return resps"
   ]
  },
  {
   "cell_type": "code",
   "execution_count": 84,
   "metadata": {
    "collapsed": false
   },
   "outputs": [],
   "source": [
    "resps = clean_resps(df)"
   ]
  },
  {
   "cell_type": "code",
   "execution_count": 110,
   "metadata": {
    "collapsed": true
   },
   "outputs": [],
   "source": [
    "import re\n",
    "from jinja2 import evalcontextfilter, Markup, escape\n",
    "\n",
    "_paragraph_re = re.compile(r'(?:\\r\\n|\\r|\\n){2,}')\n",
    "\n",
    "@evalcontextfilter\n",
    "def nl2br(eval_ctx, value):\n",
    "    result = u'\\n\\n'.join(u'<p>%s</p>' % p.replace('\\n', Markup('<br>\\n'))\n",
    "                          for p in _paragraph_re.split(escape(value)))\n",
    "    if eval_ctx.autoescape:\n",
    "        result = Markup(result)\n",
    "    return result"
   ]
  },
  {
   "cell_type": "code",
   "execution_count": 113,
   "metadata": {
    "collapsed": true
   },
   "outputs": [],
   "source": [
    "import jinja2\n",
    "\n",
    "loader = jinja2.FileSystemLoader('.')\n",
    "env = jinja2.Environment(loader=loader)\n",
    "env.filters['nl2br'] = nl2br"
   ]
  },
  {
   "cell_type": "code",
   "execution_count": 114,
   "metadata": {
    "collapsed": true
   },
   "outputs": [],
   "source": [
    "template = env.get_template('template.html')"
   ]
  },
  {
   "cell_type": "code",
   "execution_count": 115,
   "metadata": {
    "collapsed": false
   },
   "outputs": [
    {
     "data": {
      "text/plain": [
       "['Response_1', 'Response_2']"
      ]
     },
     "execution_count": 115,
     "metadata": {},
     "output_type": "execute_result"
    }
   ],
   "source": [
    "qs = [col for col in df.columns if col.startswith('Response')]\n",
    "\n",
    "qs"
   ]
  },
  {
   "cell_type": "code",
   "execution_count": 116,
   "metadata": {
    "collapsed": false
   },
   "outputs": [],
   "source": [
    "for q in qs:\n",
    "    resps = clean_resps(df, q)\n",
    "    out = template.render(resps=resps, subject=\"Reading questions\", headline=q)\n",
    "    with open('%s.html' % q, 'w') as fl:\n",
    "        fl.write(out)"
   ]
  },
  {
   "cell_type": "code",
   "execution_count": 117,
   "metadata": {
    "collapsed": false
   },
   "outputs": [],
   "source": [
    "!open Response_1.html"
   ]
  },
  {
   "cell_type": "code",
   "execution_count": null,
   "metadata": {
    "collapsed": true
   },
   "outputs": [],
   "source": []
  }
 ],
 "metadata": {
  "kernelspec": {
   "display_name": "Python 3",
   "language": "python",
   "name": "python3"
  },
  "language_info": {
   "codemirror_mode": {
    "name": "ipython",
    "version": 3
   },
   "file_extension": ".py",
   "mimetype": "text/x-python",
   "name": "python",
   "nbconvert_exporter": "python",
   "pygments_lexer": "ipython3",
   "version": "3.5.0"
  }
 },
 "nbformat": 4,
 "nbformat_minor": 2
}
